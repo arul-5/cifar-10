{
 "cells": [
  {
   "cell_type": "markdown",
   "metadata": {},
   "source": [
    "#### Importing the necessary libraries"
   ]
  },
  {
   "cell_type": "code",
   "execution_count": 53,
   "metadata": {},
   "outputs": [],
   "source": [
    "import tensorflow as tf\n",
    "from tensorflow.keras import datasets, layers, models, Sequential\n",
    "from tensorflow.keras.layers import Dense, Flatten, Conv2D, MaxPooling2D, Dropout\n",
    "from tensorflow.keras.preprocessing.image import ImageDataGenerator\n",
    "import matplotlib.pyplot as plt\n",
    "import numpy as np\n"
   ]
  },
  {
   "cell_type": "code",
   "execution_count": 54,
   "metadata": {},
   "outputs": [],
   "source": [
    "# Loading the dataset\n",
    "(X_train, y_train), (X_test, y_test) = datasets.cifar10.load_data()"
   ]
  },
  {
   "cell_type": "code",
   "execution_count": 55,
   "metadata": {},
   "outputs": [],
   "source": [
    "datagen = ImageDataGenerator(\n",
    "    rotation_range=15,\n",
    "    width_shift_range=0.1,\n",
    "    height_shift_range=0.1,\n",
    "    horizontal_flip=True,\n",
    "    )\n"
   ]
  },
  {
   "cell_type": "code",
   "execution_count": 56,
   "metadata": {},
   "outputs": [
    {
     "data": {
      "text/plain": [
       "(50000, 32, 32, 3)"
      ]
     },
     "execution_count": 56,
     "metadata": {},
     "output_type": "execute_result"
    }
   ],
   "source": [
    "X_train.shape"
   ]
  },
  {
   "cell_type": "code",
   "execution_count": 57,
   "metadata": {},
   "outputs": [
    {
     "data": {
      "text/plain": [
       "(50000, 1)"
      ]
     },
     "execution_count": 57,
     "metadata": {},
     "output_type": "execute_result"
    }
   ],
   "source": [
    "y_train.shape"
   ]
  },
  {
   "cell_type": "code",
   "execution_count": 58,
   "metadata": {},
   "outputs": [
    {
     "data": {
      "text/plain": [
       "array([[6],\n",
       "       [9],\n",
       "       [9],\n",
       "       [4],\n",
       "       [1]], dtype=uint8)"
      ]
     },
     "execution_count": 58,
     "metadata": {},
     "output_type": "execute_result"
    }
   ],
   "source": [
    "y_train[:5]"
   ]
  },
  {
   "cell_type": "markdown",
   "metadata": {},
   "source": [
    "- y train is a 2D array we dont want any 2D array so we changing it to 1D"
   ]
  },
  {
   "cell_type": "code",
   "execution_count": 59,
   "metadata": {},
   "outputs": [],
   "source": [
    "y_train = y_train.reshape(-1,)"
   ]
  },
  {
   "cell_type": "code",
   "execution_count": 60,
   "metadata": {},
   "outputs": [
    {
     "data": {
      "text/plain": [
       "array([6, 9, 9, 4, 1], dtype=uint8)"
      ]
     },
     "execution_count": 60,
     "metadata": {},
     "output_type": "execute_result"
    }
   ],
   "source": [
    "y_train[:5]"
   ]
  },
  {
   "cell_type": "code",
   "execution_count": 61,
   "metadata": {},
   "outputs": [
    {
     "data": {
      "text/plain": [
       "(10000, 32, 32, 3)"
      ]
     },
     "execution_count": 61,
     "metadata": {},
     "output_type": "execute_result"
    }
   ],
   "source": [
    "X_test.shape"
   ]
  },
  {
   "cell_type": "code",
   "execution_count": 62,
   "metadata": {},
   "outputs": [
    {
     "data": {
      "text/plain": [
       "(10000, 1)"
      ]
     },
     "execution_count": 62,
     "metadata": {},
     "output_type": "execute_result"
    }
   ],
   "source": [
    "y_test.shape"
   ]
  },
  {
   "cell_type": "code",
   "execution_count": 63,
   "metadata": {},
   "outputs": [],
   "source": [
    "classes = ['airplane', 'automobile', 'bird', 'cat', 'deer', 'dog', 'frog', 'horse', 'ship', 'truck']"
   ]
  },
  {
   "cell_type": "code",
   "execution_count": 64,
   "metadata": {},
   "outputs": [],
   "source": [
    "def plot_sample(X, y, index):\n",
    "  plt.figure(figsize=(15,2))\n",
    "  plt.imshow(X[index])\n",
    "  plt.xlabel(classes[y[index]])"
   ]
  },
  {
   "cell_type": "code",
   "execution_count": 65,
   "metadata": {},
   "outputs": [
    {
     "data": {
      "image/png": "[encoded data removed]",
      "text/plain": [
       "<Figure size 1500x200 with 1 Axes>"
      ]
     },
     "metadata": {},
     "output_type": "display_data"
    }
   ],
   "source": [
    "plot_sample(X_train, y_train, 48)"
   ]
  },
  {
   "cell_type": "markdown",
   "metadata": {},
   "source": [
    "- Normalizing the values "
   ]
  },
  {
   "cell_type": "code",
   "execution_count": 66,
   "metadata": {},
   "outputs": [],
   "source": [
    "X_train = X_train/255 \n",
    "X_test = X_test/255"
   ]
  },
  {
   "cell_type": "code",
   "execution_count": 67,
   "metadata": {},
   "outputs": [
    {
     "data": {
      "image/png": "[encoded data removed]",
      "text/plain": [
       "<Figure size 1500x200 with 1 Axes>"
      ]
     },
     "metadata": {},
     "output_type": "display_data"
    }
   ],
   "source": [
    "plot_sample(X_train, y_train, 48)"
   ]
  },
  {
   "cell_type": "code",
   "execution_count": 68,
   "metadata": {},
   "outputs": [],
   "source": [
    "datagen.fit(X_train)\n"
   ]
  },
  {
   "cell_type": "code",
   "execution_count": 69,
   "metadata": {},
   "outputs": [
    {
     "data": {
      "text/plain": [
       "array([[[0.23137255, 0.24313725, 0.24705882],\n",
       "        [0.16862745, 0.18039216, 0.17647059],\n",
       "        [0.19607843, 0.18823529, 0.16862745],\n",
       "        ...,\n",
       "        [0.61960784, 0.51764706, 0.42352941],\n",
       "        [0.59607843, 0.49019608, 0.4       ],\n",
       "        [0.58039216, 0.48627451, 0.40392157]],\n",
       "\n",
       "       [[0.0627451 , 0.07843137, 0.07843137],\n",
       "        [0.        , 0.        , 0.        ],\n",
       "        [0.07058824, 0.03137255, 0.        ],\n",
       "        ...,\n",
       "        [0.48235294, 0.34509804, 0.21568627],\n",
       "        [0.46666667, 0.3254902 , 0.19607843],\n",
       "        [0.47843137, 0.34117647, 0.22352941]],\n",
       "\n",
       "       [[0.09803922, 0.09411765, 0.08235294],\n",
       "        [0.0627451 , 0.02745098, 0.        ],\n",
       "        [0.19215686, 0.10588235, 0.03137255],\n",
       "        ...,\n",
       "        [0.4627451 , 0.32941176, 0.19607843],\n",
       "        [0.47058824, 0.32941176, 0.19607843],\n",
       "        [0.42745098, 0.28627451, 0.16470588]],\n",
       "\n",
       "       ...,\n",
       "\n",
       "       [[0.81568627, 0.66666667, 0.37647059],\n",
       "        [0.78823529, 0.6       , 0.13333333],\n",
       "        [0.77647059, 0.63137255, 0.10196078],\n",
       "        ...,\n",
       "        [0.62745098, 0.52156863, 0.2745098 ],\n",
       "        [0.21960784, 0.12156863, 0.02745098],\n",
       "        [0.20784314, 0.13333333, 0.07843137]],\n",
       "\n",
       "       [[0.70588235, 0.54509804, 0.37647059],\n",
       "        [0.67843137, 0.48235294, 0.16470588],\n",
       "        [0.72941176, 0.56470588, 0.11764706],\n",
       "        ...,\n",
       "        [0.72156863, 0.58039216, 0.36862745],\n",
       "        [0.38039216, 0.24313725, 0.13333333],\n",
       "        [0.3254902 , 0.20784314, 0.13333333]],\n",
       "\n",
       "       [[0.69411765, 0.56470588, 0.45490196],\n",
       "        [0.65882353, 0.50588235, 0.36862745],\n",
       "        [0.70196078, 0.55686275, 0.34117647],\n",
       "        ...,\n",
       "        [0.84705882, 0.72156863, 0.54901961],\n",
       "        [0.59215686, 0.4627451 , 0.32941176],\n",
       "        [0.48235294, 0.36078431, 0.28235294]]])"
      ]
     },
     "execution_count": 69,
     "metadata": {},
     "output_type": "execute_result"
    }
   ],
   "source": [
    "X_train[0]"
   ]
  },
  {
   "cell_type": "markdown",
   "metadata": {},
   "source": [
    "#### CNN Architecture"
   ]
  },
  {
   "cell_type": "code",
   "execution_count": 71,
   "metadata": {},
   "outputs": [],
   "source": [
    "model = Sequential()\n",
    "\n",
    "model.add(layers.Conv2D(64, (3, 3), activation='relu'))\n",
    "model.add(layers.BatchNormalization())\n",
    "model.add(layers.MaxPooling2D((2, 2)))\n",
    "\n",
    "model.add(layers.Conv2D(128, (3, 3), activation='relu'))\n",
    "model.add(layers.BatchNormalization())\n",
    "model.add(layers.MaxPooling2D((2, 2)))\n",
    "\n",
    "# Flatten the output and add Dense layers\n",
    "model.add(layers.Flatten())\n",
    "model.add(layers.Dense(256, activation='relu'))\n",
    "model.add(layers.Dropout(0.5))  # Dropout for regularization\n",
    "model.add(layers.Dense(128, activation='relu'))\n",
    "model.add(layers.Dropout(0.5))\n",
    "model.add(layers.Dense(10, activation='softmax'))"
   ]
  },
  {
   "cell_type": "code",
   "execution_count": 72,
   "metadata": {},
   "outputs": [],
   "source": [
    "model.compile(\n",
    "    optimizer = 'adam',\n",
    "    loss = 'sparse_categorical_crossentropy',\n",
    "    metrics = ['accuracy']\n",
    ")"
   ]
  },
  {
   "cell_type": "markdown",
   "metadata": {},
   "source": [
    "#### Training the model"
   ]
  },
  {
   "cell_type": "code",
   "execution_count": 73,
   "metadata": {},
   "outputs": [
    {
     "name": "stdout",
     "output_type": "stream",
     "text": [
      "Epoch 1/50\n",
      "782/782 [==============================] - 52s 65ms/step - loss: 2.0185 - accuracy: 0.2894 - val_loss: 1.6534 - val_accuracy: 0.3993\n",
      "Epoch 2/50\n",
      "782/782 [==============================] - 56s 72ms/step - loss: 1.6338 - accuracy: 0.4060 - val_loss: 1.4543 - val_accuracy: 0.4807\n",
      "Epoch 3/50\n",
      "782/782 [==============================] - 59s 76ms/step - loss: 1.4868 - accuracy: 0.4697 - val_loss: 1.3841 - val_accuracy: 0.5157\n",
      "Epoch 4/50\n",
      "782/782 [==============================] - 59s 75ms/step - loss: 1.4015 - accuracy: 0.5010 - val_loss: 1.3326 - val_accuracy: 0.5560\n",
      "Epoch 5/50\n",
      "782/782 [==============================] - 59s 75ms/step - loss: 1.3299 - accuracy: 0.5353 - val_loss: 1.2648 - val_accuracy: 0.5596\n",
      "Epoch 6/50\n",
      "782/782 [==============================] - 59s 75ms/step - loss: 1.2823 - accuracy: 0.5553 - val_loss: 1.1450 - val_accuracy: 0.6054\n",
      "Epoch 7/50\n",
      "782/782 [==============================] - 59s 76ms/step - loss: 1.2420 - accuracy: 0.5708 - val_loss: 1.1132 - val_accuracy: 0.6199\n",
      "Epoch 8/50\n",
      "782/782 [==============================] - 59s 75ms/step - loss: 1.2055 - accuracy: 0.5847 - val_loss: 1.1939 - val_accuracy: 0.5969\n",
      "Epoch 9/50\n",
      "782/782 [==============================] - 59s 76ms/step - loss: 1.1631 - accuracy: 0.6030 - val_loss: 0.9853 - val_accuracy: 0.6682\n",
      "Epoch 10/50\n",
      "782/782 [==============================] - 59s 75ms/step - loss: 1.1313 - accuracy: 0.6115 - val_loss: 1.0775 - val_accuracy: 0.6203\n",
      "Epoch 11/50\n",
      "782/782 [==============================] - 59s 75ms/step - loss: 1.1046 - accuracy: 0.6238 - val_loss: 1.0536 - val_accuracy: 0.6512\n",
      "Epoch 12/50\n",
      "782/782 [==============================] - 59s 76ms/step - loss: 1.0829 - accuracy: 0.6336 - val_loss: 1.0697 - val_accuracy: 0.6387\n",
      "Epoch 13/50\n",
      "782/782 [==============================] - 59s 76ms/step - loss: 1.0582 - accuracy: 0.6420 - val_loss: 0.8776 - val_accuracy: 0.6975\n",
      "Epoch 14/50\n",
      "782/782 [==============================] - 77s 98ms/step - loss: 1.0346 - accuracy: 0.6525 - val_loss: 0.8606 - val_accuracy: 0.7142\n",
      "Epoch 15/50\n",
      "782/782 [==============================] - 82s 104ms/step - loss: 1.0168 - accuracy: 0.6602 - val_loss: 1.0479 - val_accuracy: 0.6574\n",
      "Epoch 16/50\n",
      "782/782 [==============================] - 65s 83ms/step - loss: 0.9945 - accuracy: 0.6663 - val_loss: 0.8701 - val_accuracy: 0.7026\n",
      "Epoch 17/50\n",
      "782/782 [==============================] - 58s 75ms/step - loss: 0.9785 - accuracy: 0.6778 - val_loss: 0.8328 - val_accuracy: 0.7203\n",
      "Epoch 18/50\n",
      "782/782 [==============================] - 58s 74ms/step - loss: 0.9562 - accuracy: 0.6792 - val_loss: 0.8596 - val_accuracy: 0.7094\n",
      "Epoch 19/50\n",
      "782/782 [==============================] - 58s 74ms/step - loss: 0.9526 - accuracy: 0.6831 - val_loss: 0.8802 - val_accuracy: 0.7036\n",
      "Epoch 20/50\n",
      "782/782 [==============================] - 58s 74ms/step - loss: 0.9288 - accuracy: 0.6900 - val_loss: 0.8248 - val_accuracy: 0.7295\n",
      "Epoch 21/50\n",
      "782/782 [==============================] - 57s 73ms/step - loss: 0.9214 - accuracy: 0.6939 - val_loss: 0.9500 - val_accuracy: 0.6819\n",
      "Epoch 22/50\n",
      "782/782 [==============================] - 57s 73ms/step - loss: 0.9126 - accuracy: 0.6979 - val_loss: 0.8790 - val_accuracy: 0.7067\n",
      "Epoch 23/50\n",
      "782/782 [==============================] - 58s 74ms/step - loss: 0.9042 - accuracy: 0.7018 - val_loss: 0.7639 - val_accuracy: 0.7486\n",
      "Epoch 24/50\n",
      "782/782 [==============================] - 74s 95ms/step - loss: 0.8885 - accuracy: 0.7064 - val_loss: 0.7557 - val_accuracy: 0.7482\n",
      "Epoch 25/50\n",
      "782/782 [==============================] - 72s 92ms/step - loss: 0.8892 - accuracy: 0.7027 - val_loss: 0.7964 - val_accuracy: 0.7389\n",
      "Epoch 26/50\n",
      "782/782 [==============================] - 74s 94ms/step - loss: 0.8612 - accuracy: 0.7146 - val_loss: 0.8680 - val_accuracy: 0.7062\n",
      "Epoch 27/50\n",
      "782/782 [==============================] - 84s 108ms/step - loss: 0.8611 - accuracy: 0.7149 - val_loss: 0.7702 - val_accuracy: 0.7396\n",
      "Epoch 28/50\n",
      "782/782 [==============================] - 75s 96ms/step - loss: 0.8554 - accuracy: 0.7138 - val_loss: 0.7816 - val_accuracy: 0.7455\n",
      "Epoch 29/50\n",
      "782/782 [==============================] - 73s 94ms/step - loss: 0.8559 - accuracy: 0.7174 - val_loss: 0.8049 - val_accuracy: 0.7235\n",
      "Epoch 30/50\n",
      "782/782 [==============================] - 77s 98ms/step - loss: 0.8385 - accuracy: 0.7234 - val_loss: 0.8567 - val_accuracy: 0.7053\n",
      "Epoch 31/50\n",
      "782/782 [==============================] - 73s 93ms/step - loss: 0.8315 - accuracy: 0.7259 - val_loss: 0.7536 - val_accuracy: 0.7487\n",
      "Epoch 32/50\n",
      "782/782 [==============================] - 66s 85ms/step - loss: 0.8229 - accuracy: 0.7289 - val_loss: 0.6814 - val_accuracy: 0.7725\n",
      "Epoch 33/50\n",
      "782/782 [==============================] - 67s 86ms/step - loss: 0.8085 - accuracy: 0.7319 - val_loss: 0.7853 - val_accuracy: 0.7333\n",
      "Epoch 34/50\n",
      "782/782 [==============================] - 64s 81ms/step - loss: 0.8077 - accuracy: 0.7315 - val_loss: 0.6871 - val_accuracy: 0.7662\n",
      "Epoch 35/50\n",
      "782/782 [==============================] - 57s 72ms/step - loss: 0.8012 - accuracy: 0.7362 - val_loss: 0.6587 - val_accuracy: 0.7750\n",
      "Epoch 36/50\n",
      "782/782 [==============================] - 57s 73ms/step - loss: 0.7899 - accuracy: 0.7379 - val_loss: 0.8997 - val_accuracy: 0.7031\n",
      "Epoch 37/50\n",
      "782/782 [==============================] - 57s 73ms/step - loss: 0.7878 - accuracy: 0.7384 - val_loss: 0.8277 - val_accuracy: 0.7231\n",
      "Epoch 38/50\n",
      "782/782 [==============================] - 57s 73ms/step - loss: 0.7809 - accuracy: 0.7400 - val_loss: 0.7138 - val_accuracy: 0.7607\n",
      "Epoch 39/50\n",
      "782/782 [==============================] - 58s 74ms/step - loss: 0.7753 - accuracy: 0.7433 - val_loss: 0.7296 - val_accuracy: 0.7545\n",
      "Epoch 40/50\n",
      "782/782 [==============================] - 57s 73ms/step - loss: 0.7718 - accuracy: 0.7465 - val_loss: 0.7195 - val_accuracy: 0.7514\n",
      "Epoch 41/50\n",
      "782/782 [==============================] - 57s 73ms/step - loss: 0.7612 - accuracy: 0.7470 - val_loss: 0.6945 - val_accuracy: 0.7638\n",
      "Epoch 42/50\n",
      "782/782 [==============================] - 57s 73ms/step - loss: 0.7585 - accuracy: 0.7501 - val_loss: 0.6575 - val_accuracy: 0.7810\n",
      "Epoch 43/50\n",
      "782/782 [==============================] - 57s 73ms/step - loss: 0.7587 - accuracy: 0.7496 - val_loss: 0.7008 - val_accuracy: 0.7728\n",
      "Epoch 44/50\n",
      "782/782 [==============================] - 57s 73ms/step - loss: 0.7522 - accuracy: 0.7510 - val_loss: 0.7521 - val_accuracy: 0.7479\n",
      "Epoch 45/50\n",
      "782/782 [==============================] - 57s 73ms/step - loss: 0.7432 - accuracy: 0.7539 - val_loss: 0.6638 - val_accuracy: 0.7810\n",
      "Epoch 46/50\n",
      "782/782 [==============================] - 57s 73ms/step - loss: 0.7460 - accuracy: 0.7555 - val_loss: 0.6398 - val_accuracy: 0.7908\n",
      "Epoch 47/50\n",
      "782/782 [==============================] - 57s 73ms/step - loss: 0.7299 - accuracy: 0.7576 - val_loss: 0.6268 - val_accuracy: 0.7901\n",
      "Epoch 48/50\n",
      "782/782 [==============================] - 57s 73ms/step - loss: 0.7300 - accuracy: 0.7590 - val_loss: 0.7592 - val_accuracy: 0.7516\n",
      "Epoch 49/50\n",
      "782/782 [==============================] - 57s 73ms/step - loss: 0.7204 - accuracy: 0.7614 - val_loss: 0.5972 - val_accuracy: 0.8027\n",
      "Epoch 50/50\n",
      "782/782 [==============================] - 58s 75ms/step - loss: 0.7236 - accuracy: 0.7622 - val_loss: 0.7862 - val_accuracy: 0.7442\n"
     ]
    }
   ],
   "source": [
    "history = model.fit(datagen.flow(X_train, y_train, batch_size=64),\n",
    "                    epochs=50, \n",
    "                    validation_data=(X_test, y_test))\n"
   ]
  },
  {
   "cell_type": "markdown",
   "metadata": {},
   "source": [
    "#### Evaluation"
   ]
  },
  {
   "cell_type": "code",
   "execution_count": 75,
   "metadata": {},
   "outputs": [
    {
     "name": "stdout",
     "output_type": "stream",
     "text": [
      "313/313 [==============================] - 4s 13ms/step - loss: 0.7862 - accuracy: 0.7442\n"
     ]
    },
    {
     "data": {
      "text/plain": [
       "[0.7862388491630554, 0.7441999912261963]"
      ]
     },
     "execution_count": 75,
     "metadata": {},
     "output_type": "execute_result"
    }
   ],
   "source": [
    "model.evaluate(X_test, y_test)"
   ]
  },
  {
   "cell_type": "markdown",
   "metadata": {},
   "source": [
    "#### Accuracy: 74%"
   ]
  },
  {
   "cell_type": "code",
   "execution_count": 76,
   "metadata": {},
   "outputs": [
    {
     "name": "stdout",
     "output_type": "stream",
     "text": [
      "313/313 [==============================] - 4s 12ms/step\n"
     ]
    }
   ],
   "source": [
    "y_predictions = model.predict(X_test)"
   ]
  },
  {
   "cell_type": "code",
   "execution_count": 77,
   "metadata": {},
   "outputs": [
    {
     "data": {
      "text/plain": [
       "array([9.1977046e-05, 9.5887953e-01, 1.8927012e-05, 2.0719786e-05,\n",
       "       1.0311756e-07, 1.8528611e-06, 5.0703802e-05, 2.7370459e-06,\n",
       "       2.7290260e-04, 4.0660508e-02], dtype=float32)"
      ]
     },
     "execution_count": 77,
     "metadata": {},
     "output_type": "execute_result"
    }
   ],
   "source": [
    "y_predictions[9]"
   ]
  },
  {
   "cell_type": "code",
   "execution_count": 78,
   "metadata": {},
   "outputs": [],
   "source": [
    "y_predictions = [np.argmax(arr) for arr in y_predictions]"
   ]
  },
  {
   "cell_type": "code",
   "execution_count": 79,
   "metadata": {},
   "outputs": [
    {
     "data": {
      "text/plain": [
       "1"
      ]
     },
     "execution_count": 79,
     "metadata": {},
     "output_type": "execute_result"
    }
   ],
   "source": [
    "y_predictions[9]"
   ]
  },
  {
   "cell_type": "code",
   "execution_count": 80,
   "metadata": {},
   "outputs": [],
   "source": [
    "y_test = y_test.reshape(-1,)"
   ]
  },
  {
   "cell_type": "code",
   "execution_count": 81,
   "metadata": {},
   "outputs": [
    {
     "data": {
      "image/png": "[encoded data removed]",
      "text/plain": [
       "<Figure size 1500x200 with 1 Axes>"
      ]
     },
     "metadata": {},
     "output_type": "display_data"
    }
   ],
   "source": [
    "plot_sample(X_test, y_test,5)"
   ]
  },
  {
   "cell_type": "markdown",
   "metadata": {},
   "source": [
    "#### Thanks"
   ]
  },
  {
   "cell_type": "markdown",
   "metadata": {},
   "source": []
  }
 ],
 "metadata": {
  "kernelspec": {
   "display_name": "Python 3",
   "language": "python",
   "name": "python3"
  },
  "language_info": {
   "codemirror_mode": {
    "name": "ipython",
    "version": 3
   },
   "file_extension": ".py",
   "mimetype": "text/x-python",
   "name": "python",
   "nbconvert_exporter": "python",
   "pygments_lexer": "ipython3",
   "version": "3.10.5"
  }
 },
 "nbformat": 4,
 "nbformat_minor": 2
}
